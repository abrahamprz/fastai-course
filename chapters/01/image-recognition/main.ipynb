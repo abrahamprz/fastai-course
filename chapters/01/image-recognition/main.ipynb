{
 "cells": [
  {
   "cell_type": "code",
   "execution_count": null,
   "metadata": {},
   "outputs": [],
   "source": [
    "from fastbook import *"
   ]
  },
  {
   "cell_type": "code",
   "execution_count": null,
   "metadata": {},
   "outputs": [],
   "source": [
    "urls = search_images_ddg('pug', max_images=100) # DuckDuckGo, can search any image\n",
    "len(urls), urls[0]"
   ]
  },
  {
   "cell_type": "code",
   "execution_count": null,
   "metadata": {},
   "outputs": [],
   "source": [
    "dest = Path('images/pug.jpg')\n",
    "if not dest.exists(): download_url(urls[0], dest, show_progress=True)\n",
    "im = Image.open(dest)\n",
    "im.thumbnail((256,256))\n",
    "im"
   ]
  },
  {
   "cell_type": "code",
   "execution_count": null,
   "metadata": {},
   "outputs": [],
   "source": [
    "searches = 'pug','french bulldog'\n",
    "path = Path('pug-or-not')\n",
    "\n",
    "if not path.exists():\n",
    "    for item in searches:\n",
    "        dest = (path/item)\n",
    "        dest.mkdir(parents=True, exist_ok=True)\n",
    "        results = search_images_ddg(f'{item} dog')\n",
    "        download_images(dest, urls=results[:200])\n",
    "        resize_images(dest, max_size=400, dest=dest)"
   ]
  },
  {
   "cell_type": "code",
   "execution_count": null,
   "metadata": {},
   "outputs": [],
   "source": [
    "# Remove broken images\n",
    "failed = verify_images(get_image_files(path))\n",
    "failed.map(Path.unlink);\n",
    "len(failed)"
   ]
  },
  {
   "cell_type": "code",
   "execution_count": null,
   "metadata": {},
   "outputs": [],
   "source": [
    "dls = DataBlock(\n",
    "    blocks=(ImageBlock, CategoryBlock), # ImageBlock: input, CategoryBlock: output\n",
    "    get_items=get_image_files, # get images from folder\n",
    "    splitter=RandomSplitter(valid_pct=0.2, seed=42), # split into train/valid sets (20% validation) and seed for reproducibility\n",
    "    get_y=parent_label, # get label from parent folder\n",
    "    item_tfms=[Resize(192, method='squish')]\n",
    ").dataloaders(path)\n",
    "\n",
    "dls.show_batch(max_n=12, nrows=3)"
   ]
  },
  {
   "cell_type": "code",
   "execution_count": null,
   "metadata": {},
   "outputs": [],
   "source": [
    "learn = cnn_learner(dls, resnet18, metrics=error_rate)\n",
    "learn.fine_tune(4)"
   ]
  },
  {
   "cell_type": "code",
   "execution_count": null,
   "metadata": {},
   "outputs": [],
   "source": [
    "dog,_,probs = learn.predict(PILImage.create('images/pug.jpg'))\n",
    "print(f\"This is a: {dog}.\")\n",
    "print(f\"Probability it's a pug: {probs[1].item():.6f}\")"
   ]
  }
 ],
 "metadata": {
  "kernelspec": {
   "display_name": ".venv",
   "language": "python",
   "name": "python3"
  },
  "language_info": {
   "codemirror_mode": {
    "name": "ipython",
    "version": 3
   },
   "file_extension": ".py",
   "mimetype": "text/x-python",
   "name": "python",
   "nbconvert_exporter": "python",
   "pygments_lexer": "ipython3",
   "version": "3.10.6"
  },
  "orig_nbformat": 4
 },
 "nbformat": 4,
 "nbformat_minor": 2
}
