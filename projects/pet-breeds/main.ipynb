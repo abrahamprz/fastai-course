{
 "cells": [
  {
   "cell_type": "code",
   "execution_count": 1,
   "metadata": {},
   "outputs": [
    {
     "name": "stdout",
     "output_type": "stream",
     "text": [
      "\n",
      "\u001b[1m[\u001b[0m\u001b[34;49mnotice\u001b[0m\u001b[1;39;49m]\u001b[0m\u001b[39;49m A new release of pip is available: \u001b[0m\u001b[31;49m23.2.1\u001b[0m\u001b[39;49m -> \u001b[0m\u001b[32;49m24.0\u001b[0m\n",
      "\u001b[1m[\u001b[0m\u001b[34;49mnotice\u001b[0m\u001b[1;39;49m]\u001b[0m\u001b[39;49m To update, run: \u001b[0m\u001b[32;49mpip install --upgrade pip\u001b[0m\n",
      "Note: you may need to restart the kernel to use updated packages.\n"
     ]
    }
   ],
   "source": [
    "%pip install -q fastai"
   ]
  },
  {
   "cell_type": "markdown",
   "metadata": {},
   "source": [
    "Download the Pets dataset"
   ]
  },
  {
   "cell_type": "code",
   "execution_count": 2,
   "metadata": {},
   "outputs": [],
   "source": [
    "from fastai.vision.all import *"
   ]
  },
  {
   "cell_type": "code",
   "execution_count": 3,
   "metadata": {},
   "outputs": [],
   "source": [
    "path = untar_data(URLs.PETS)"
   ]
  },
  {
   "cell_type": "markdown",
   "metadata": {},
   "source": [
    "We want to extract the breed of each pet from each image. For this, we need to understand how the data is laid out in the dataset."
   ]
  },
  {
   "cell_type": "markdown",
   "metadata": {},
   "source": [
    "See the content of the dataset."
   ]
  },
  {
   "cell_type": "code",
   "execution_count": 4,
   "metadata": {},
   "outputs": [
    {
     "data": {
      "text/plain": [
       "(#2) [Path('/home/abraham/.fastai/data/oxford-iiit-pet/images'),Path('/home/abraham/.fastai/data/oxford-iiit-pet/annotations')]"
      ]
     },
     "execution_count": 4,
     "metadata": {},
     "output_type": "execute_result"
    }
   ],
   "source": [
    "path.ls()"
   ]
  },
  {
   "cell_type": "markdown",
   "metadata": {},
   "source": [
    "The dataset provides *images* and *annotations* directories. The source website states that the *annotations* directory contains information about what the pets are instead of what they are."
   ]
  },
  {
   "cell_type": "markdown",
   "metadata": {},
   "source": [
    "This project focuses on classification, not localization. This *annotation* information is **not useful for this project**."
   ]
  },
  {
   "cell_type": "markdown",
   "metadata": {},
   "source": [
    "Let's focus on the *images* directory."
   ]
  },
  {
   "cell_type": "code",
   "execution_count": 5,
   "metadata": {},
   "outputs": [
    {
     "data": {
      "text/plain": [
       "(#7393) [Path('/home/abraham/.fastai/data/oxford-iiit-pet/images/wheaten_terrier_73.jpg'),Path('/home/abraham/.fastai/data/oxford-iiit-pet/images/newfoundland_19.jpg'),Path('/home/abraham/.fastai/data/oxford-iiit-pet/images/newfoundland_75.jpg'),Path('/home/abraham/.fastai/data/oxford-iiit-pet/images/beagle_40.jpg'),Path('/home/abraham/.fastai/data/oxford-iiit-pet/images/japanese_chin_132.jpg'),Path('/home/abraham/.fastai/data/oxford-iiit-pet/images/Sphynx_41.jpg'),Path('/home/abraham/.fastai/data/oxford-iiit-pet/images/yorkshire_terrier_40.jpg'),Path('/home/abraham/.fastai/data/oxford-iiit-pet/images/Sphynx_67.jpg'),Path('/home/abraham/.fastai/data/oxford-iiit-pet/images/keeshond_81.jpg'),Path('/home/abraham/.fastai/data/oxford-iiit-pet/images/american_bulldog_174.jpg')...]"
      ]
     },
     "execution_count": 5,
     "metadata": {},
     "output_type": "execute_result"
    }
   ],
   "source": [
    "(path/\"images\").ls()"
   ]
  },
  {
   "cell_type": "markdown",
   "metadata": {},
   "source": [
    "The structure of the filenames appears to be:\n",
    "- pet breed\n",
    "- underscore\n",
    "- number\n",
    "- file extension"
   ]
  },
  {
   "cell_type": "markdown",
   "metadata": {},
   "source": [
    "Our project will require to extract the breed from the filename."
   ]
  },
  {
   "cell_type": "markdown",
   "metadata": {},
   "source": [
    "We can't make too many assumptions. Some breeds have multiple words, so we cannot assume that the breed is located before the first underscore."
   ]
  },
  {
   "cell_type": "markdown",
   "metadata": {},
   "source": [
    "Let's pick one of these filenames to test our code."
   ]
  },
  {
   "cell_type": "code",
   "execution_count": 6,
   "metadata": {},
   "outputs": [
    {
     "data": {
      "text/plain": [
       "Path('/home/abraham/.fastai/data/oxford-iiit-pet/images/wheaten_terrier_73.jpg')"
      ]
     },
     "execution_count": 6,
     "metadata": {},
     "output_type": "execute_result"
    }
   ],
   "source": [
    "fname = (path/\"images\").ls()[0]\n",
    "fname"
   ]
  },
  {
   "cell_type": "markdown",
   "metadata": {},
   "source": [
    "The best way to extract the breed is to use a *regular expression*, also known as *regex*. We need a regex that extracts the breed from the filename."
   ]
  },
  {
   "cell_type": "markdown",
   "metadata": {},
   "source": [
    "Use the ```findall``` methos to try a regex against the filename of the ```fname``` object."
   ]
  },
  {
   "cell_type": "code",
   "execution_count": 7,
   "metadata": {},
   "outputs": [
    {
     "data": {
      "text/plain": [
       "['wheaten_terrier']"
      ]
     },
     "execution_count": 7,
     "metadata": {},
     "output_type": "execute_result"
    }
   ],
   "source": [
    "re.findall(r'(.+)_\\d+.jpg$', fname.name)"
   ]
  },
  {
   "cell_type": "markdown",
   "metadata": {},
   "source": [
    "Now that we confirmed that the regex works, let's use it to label the entire dataset."
   ]
  },
  {
   "cell_type": "markdown",
   "metadata": {},
   "source": [
    "The ```RegexLabeller``` class is used for labeling with regex."
   ]
  },
  {
   "cell_type": "code",
   "execution_count": 8,
   "metadata": {},
   "outputs": [],
   "source": [
    "pets = DataBlock(blocks = (ImageBlock, CategoryBlock),\n",
    "                get_items = get_image_files, \n",
    "                splitter = RandomSplitter(seed=42), \n",
    "                get_y = using_attr(RegexLabeller(r'(.+)_\\d+.jpg$'), 'name'), \n",
    "                item_tfms = Resize(460), \n",
    "                batch_tfms = aug_transforms(size=224, min_scale=0.75))\n",
    "\n",
    "dls = pets.dataloaders(path/\"images\")"
   ]
  },
  {
   "cell_type": "markdown",
   "metadata": {},
   "source": [
    "The following lines implement the fastai data augmentation strategy called *presizing*. \n",
    "\n",
    "```python\n",
    "    item_tfms = Resize(460), \n",
    "    batch_tfms = aug_transforms(size=224, min_scale=0.75))\n",
    "```\n",
    "\n",
    "This is a technique that minimizes the data destruction while maintaining good performance."
   ]
  },
  {
   "cell_type": "markdown",
   "metadata": {},
   "source": []
  }
 ],
 "metadata": {
  "kernelspec": {
   "display_name": ".venv",
   "language": "python",
   "name": "python3"
  },
  "language_info": {
   "codemirror_mode": {
    "name": "ipython",
    "version": 3
   },
   "file_extension": ".py",
   "mimetype": "text/x-python",
   "name": "python",
   "nbconvert_exporter": "python",
   "pygments_lexer": "ipython3",
   "version": "3.12.1"
  }
 },
 "nbformat": 4,
 "nbformat_minor": 2
}
