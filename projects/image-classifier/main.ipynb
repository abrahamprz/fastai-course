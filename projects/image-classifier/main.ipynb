{
 "cells": [
  {
   "cell_type": "code",
   "execution_count": null,
   "metadata": {},
   "outputs": [],
   "source": [
    "%pip install -Uqq fastbook nbdev\n",
    "from fastbook import *"
   ]
  },
  {
   "cell_type": "code",
   "execution_count": null,
   "metadata": {},
   "outputs": [],
   "source": [
    "urls = search_images_ddg('pug', max_images=100) # DuckDuckGo, can search any image\n",
    "len(urls), urls[0]"
   ]
  },
  {
   "cell_type": "code",
   "execution_count": null,
   "metadata": {},
   "outputs": [],
   "source": [
    "dest = Path('images/pug.jpg')\n",
    "if not dest.exists(): download_url(urls[0], dest, show_progress=True)\n",
    "im = Image.open(dest)\n",
    "im.thumbnail((256,256))\n",
    "im"
   ]
  },
  {
   "cell_type": "code",
   "execution_count": null,
   "metadata": {},
   "outputs": [],
   "source": [
    "path = Path('images/pug-or-not')\n",
    "\n",
    "if not path.exists():\n",
    "    path.mkdir()\n",
    "\n",
    "searches = [\n",
    "    'pug',\n",
    "    'french bulldog',\n",
    "    'chihuahua',\n",
    "]\n",
    "\n",
    "for item in searches:\n",
    "    if not (path/item).exists():\n",
    "        print(f\"Downloading {item} images\")\n",
    "        dest = (path/item)\n",
    "        dest.mkdir(parents=True, exist_ok=True)\n",
    "        results = search_images_ddg(f'{item} dog')\n",
    "        download_images(dest, urls=results[:200])\n",
    "        resize_images(dest, max_size=400, dest=dest)"
   ]
  },
  {
   "cell_type": "code",
   "execution_count": null,
   "metadata": {},
   "outputs": [],
   "source": [
    "# Remove broken images\n",
    "failed = verify_images(get_image_files(path))\n",
    "failed.map(Path.unlink);\n",
    "len(failed)"
   ]
  },
  {
   "cell_type": "code",
   "execution_count": null,
   "metadata": {},
   "outputs": [],
   "source": [
    "dls = DataBlock(\n",
    "    blocks=(ImageBlock, CategoryBlock), # ImageBlock: input, CategoryBlock: output\n",
    "    get_items=get_image_files, # get images from folder\n",
    "    splitter=RandomSplitter(valid_pct=0.2, seed=42), # split into train/valid sets (20% validation) and seed for reproducibility\n",
    "    get_y=parent_label, # get label from parent folder\n",
    "    item_tfms=[Resize(192, ResizeMethod.Pad, pad_mode='zeros')]\n",
    ").dataloaders(path)\n",
    "\n",
    "dls.show_batch(max_n=12, nrows=3)"
   ]
  },
  {
   "cell_type": "code",
   "execution_count": null,
   "metadata": {},
   "outputs": [],
   "source": [
    "learn = vision_learner(dls, resnet18, metrics=error_rate)\n",
    "learn.fine_tune(8)"
   ]
  },
  {
   "cell_type": "code",
   "execution_count": null,
   "metadata": {},
   "outputs": [],
   "source": [
    "interpretation = ClassificationInterpretation.from_learner(learn)\n",
    "interpretation.plot_confusion_matrix()"
   ]
  },
  {
   "cell_type": "code",
   "execution_count": null,
   "metadata": {},
   "outputs": [],
   "source": [
    "interpretation.plot_top_losses(6, nrows=3, figsize=(12, 8))"
   ]
  },
  {
   "cell_type": "code",
   "execution_count": null,
   "metadata": {},
   "outputs": [],
   "source": [
    "from fastai.vision.widgets import ImageClassifierCleaner"
   ]
  },
  {
   "cell_type": "code",
   "execution_count": null,
   "metadata": {},
   "outputs": [],
   "source": [
    "cleaner = ImageClassifierCleaner(learn)\n",
    "cleaner"
   ]
  },
  {
   "cell_type": "code",
   "execution_count": null,
   "metadata": {},
   "outputs": [],
   "source": [
    "deleted_files = []\n",
    "for idx in cleaner.delete():\n",
    "    try:\n",
    "        deleted_files.append(cleaner.fns[idx].unlink())\n",
    "    except Exception as e:\n",
    "        print(f\"Error deleting {cleaner.fns[idx]}: {e}\")\n",
    "print(f\"Deleted {len(deleted_files)} files\")\n",
    "\n",
    "moved_files = []\n",
    "for idx,cat in cleaner.change():\n",
    "    moved_files.append(shutil.move(str(cleaner.fns[idx]), path/cat))\n",
    "print(f\"Moved {len(moved_files)} files\")"
   ]
  },
  {
   "cell_type": "code",
   "execution_count": null,
   "metadata": {},
   "outputs": [],
   "source": [
    "searches.sort()\n",
    "categories = searches\n",
    "print(categories)"
   ]
  },
  {
   "cell_type": "code",
   "execution_count": null,
   "metadata": {},
   "outputs": [],
   "source": [
    "predicted_dog,_,probs = learn.predict(PILImage.create('images/chihuahua.jpg'))\n",
    "\n",
    "\n",
    "cats_and_probs = {cat: probs[i].item() for i, cat in enumerate(categories)}\n",
    "print(cats_and_probs)\n",
    "\n",
    "print(f\"This is a: {predicted_dog}.\")\n",
    "\n",
    "dog = 'chihuahua'\n",
    "print(f\"Probability it's a {dog}: {cats_and_probs[dog]:.6f}\")"
   ]
  },
  {
   "cell_type": "markdown",
   "metadata": {},
   "source": [
    "Now we export our Learner model."
   ]
  },
  {
   "cell_type": "code",
   "execution_count": null,
   "metadata": {},
   "outputs": [],
   "source": [
    "learn.export('pug_or_not.pkl')"
   ]
  },
  {
   "cell_type": "markdown",
   "metadata": {},
   "source": [
    "Now the model can be put into production and used to make predictions on new data.\n",
    "\n",
    "This [HuggingFace space](https://huggingface.co/spaces/abramprz/image-classifier) uses the model."
   ]
  }
 ],
 "metadata": {
  "kernelspec": {
   "display_name": ".venv",
   "language": "python",
   "name": "python3"
  },
  "language_info": {
   "codemirror_mode": {
    "name": "ipython",
    "version": 3
   },
   "file_extension": ".py",
   "mimetype": "text/x-python",
   "name": "python",
   "nbconvert_exporter": "python",
   "pygments_lexer": "ipython3",
   "version": "3.12.1"
  },
  "orig_nbformat": 4
 },
 "nbformat": 4,
 "nbformat_minor": 2
}
